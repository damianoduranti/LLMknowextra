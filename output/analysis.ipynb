{
 "cells": [
  {
   "cell_type": "code",
   "execution_count": 206,
   "metadata": {},
   "outputs": [],
   "source": [
    "import pandas as pd"
   ]
  },
  {
   "cell_type": "code",
   "execution_count": 207,
   "metadata": {},
   "outputs": [],
   "source": [
    "dl = pd.read_csv('dl_times.csv')\n",
    "dl_strong = dl[dl['Separation Type'] == 'strong_sep']\n",
    "dl_weak = dl[dl['Separation Type'] == 'weak_sep']"
   ]
  },
  {
   "cell_type": "code",
   "execution_count": 208,
   "metadata": {},
   "outputs": [],
   "source": [
    "def get_avg_duration(df):\n",
    "    total = 0\n",
    "    count = 0\n",
    "    for duration_list in df['Duration']:\n",
    "        duration_list = duration_list[1:-1].split(',')\n",
    "        for duration in duration_list:\n",
    "            total += float(duration)\n",
    "            count += 1\n",
    "    return total / count if count > 0 else 0"
   ]
  },
  {
   "cell_type": "code",
   "execution_count": 209,
   "metadata": {},
   "outputs": [],
   "source": [
    "def average_correct_duration(df):\n",
    "    correct_rows = df[df['Result'] == 'Correct']\n",
    "    \n",
    "    times = []\n",
    "    for durations in correct_rows['Duration']:\n",
    "        duration_list = durations[1:-1].split(',')\n",
    "        times.append(sum([float(duration) for duration in duration_list]))\n",
    "    \n",
    "    num_correct_traces = len(correct_rows)\n",
    "    \n",
    "    if num_correct_traces > 0:\n",
    "        return sum(times) / num_correct_traces\n",
    "    else:\n",
    "        return 0"
   ]
  },
  {
   "cell_type": "code",
   "execution_count": 210,
   "metadata": {},
   "outputs": [],
   "source": [
    "def average_incorrect_duration(df):\n",
    "    incorrect_rows = df[df['Result'] == 'Incorrect']\n",
    "    \n",
    "    times = []\n",
    "    for durations in incorrect_rows['Duration']:\n",
    "        duration_list = durations[1:-1].split(',')\n",
    "        times.append(sum([float(duration) for duration in duration_list]))\n",
    "    \n",
    "    num_incorrect_traces = len(incorrect_rows)\n",
    "    \n",
    "    if num_incorrect_traces > 0:\n",
    "        return sum(times) / num_incorrect_traces\n",
    "    else:\n",
    "        return 0"
   ]
  },
  {
   "cell_type": "code",
   "execution_count": 211,
   "metadata": {},
   "outputs": [
    {
     "name": "stdout",
     "output_type": "stream",
     "text": [
      "Average duration for attempt in strong separation: 5.330878932659442\n",
      "Average duration for attempt in weak separation: 4.408904055754344\n"
     ]
    }
   ],
   "source": [
    "print(f\"Average duration for attempt in strong separation: {get_avg_duration(dl_strong)}\")\n",
    "print(f\"Average duration for attempt in weak separation: {get_avg_duration(dl_weak)}\")"
   ]
  },
  {
   "cell_type": "code",
   "execution_count": 212,
   "metadata": {},
   "outputs": [
    {
     "name": "stdout",
     "output_type": "stream",
     "text": [
      "Average duration for correct cycle in strong separation: 8.105999837602887\n",
      "Average duration for correct cycle in weak separation: 6.348821840286255\n"
     ]
    }
   ],
   "source": [
    "print(f\"Average duration for correct cycle in strong separation: {average_correct_duration(dl_strong)}\")\n",
    "print(f\"Average duration for correct cycle in weak separation: {average_correct_duration(dl_weak)}\")"
   ]
  },
  {
   "cell_type": "code",
   "execution_count": 213,
   "metadata": {},
   "outputs": [
    {
     "name": "stdout",
     "output_type": "stream",
     "text": [
      "Average duration for incorrect cycle in strong separation: 27.286951128641764\n",
      "Average duration for incorrect cycle in weak separation: 0\n"
     ]
    }
   ],
   "source": [
    "print(f\"Average duration for incorrect cycle in strong separation: {average_incorrect_duration(dl_strong)}\")\n",
    "print(f\"Average duration for incorrect cycle in weak separation: {average_incorrect_duration(dl_weak)}\")"
   ]
  },
  {
   "cell_type": "code",
   "execution_count": 214,
   "metadata": {},
   "outputs": [],
   "source": [
    "ltl = pd.read_csv('ltl_times.csv')\n",
    "ltl_constrained = ltl[ltl['Constraint Type'] == 'constrained']\n",
    "ltl_unconstrained = ltl[ltl['Constraint Type'] == 'unconstrained']"
   ]
  },
  {
   "cell_type": "code",
   "execution_count": 215,
   "metadata": {},
   "outputs": [
    {
     "name": "stdout",
     "output_type": "stream",
     "text": [
      "Average duration for attempt in constrained LTL: 2.280790743800257\n",
      "Average duration for attempt in unconstrained LTL: 2.452800053728825\n"
     ]
    }
   ],
   "source": [
    "print(f\"Average duration for attempt in constrained LTL: {get_avg_duration(ltl_constrained)}\")\n",
    "print(f\"Average duration for attempt in unconstrained LTL: {get_avg_duration(ltl_unconstrained)}\")"
   ]
  },
  {
   "cell_type": "code",
   "execution_count": 216,
   "metadata": {},
   "outputs": [
    {
     "name": "stdout",
     "output_type": "stream",
     "text": [
      "Average duration for correct cycle in constrained LTL: 1.9944223903474354\n",
      "Average duration for correct cycle in unconstrained LTL: 3.6552304880959645\n"
     ]
    }
   ],
   "source": [
    "print(f\"Average duration for correct cycle in constrained LTL: {average_correct_duration(ltl_constrained)}\")\n",
    "print(f\"Average duration for correct cycle in unconstrained LTL: {average_correct_duration(ltl_unconstrained)}\")"
   ]
  },
  {
   "cell_type": "code",
   "execution_count": 217,
   "metadata": {},
   "outputs": [
    {
     "name": "stdout",
     "output_type": "stream",
     "text": [
      "Average duration for incorrect cycle in constrained LTL: 12.161859602763736\n",
      "Average duration for incorrect cycle in unconstrained LTL: 12.818388455443912\n"
     ]
    }
   ],
   "source": [
    "print(f\"Average duration for incorrect cycle in constrained LTL: {average_incorrect_duration(ltl_constrained)}\")\n",
    "print(f\"Average duration for incorrect cycle in unconstrained LTL: {average_incorrect_duration(ltl_unconstrained)}\")"
   ]
  }
 ],
 "metadata": {
  "kernelspec": {
   "display_name": ".venv",
   "language": "python",
   "name": "python3"
  },
  "language_info": {
   "codemirror_mode": {
    "name": "ipython",
    "version": 3
   },
   "file_extension": ".py",
   "mimetype": "text/x-python",
   "name": "python",
   "nbconvert_exporter": "python",
   "pygments_lexer": "ipython3",
   "version": "3.12.2"
  }
 },
 "nbformat": 4,
 "nbformat_minor": 2
}
